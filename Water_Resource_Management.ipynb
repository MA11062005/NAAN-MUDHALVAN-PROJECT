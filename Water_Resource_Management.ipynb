{
 "cells": [
  {
   "cell_type": "code",
   "execution_count": null,
   "id": "ab6ca645",
   "metadata": {},
   "outputs": [],
   "source": [
    "import random\n",
    "import matplotlib.pyplot as plt\n",
    "import datetime"
   ]
  },
  {
   "cell_type": "markdown",
   "id": "96b089b4",
   "metadata": {},
   "source": [
    "### Generate Water Data"
   ]
  },
  {
   "cell_type": "code",
   "execution_count": null,
   "id": "4839ee0b",
   "metadata": {},
   "outputs": [],
   "source": [
    "def generate_water_data(days=30):\n",
    "    data = []\n",
    "    for i in range(days):\n",
    "        date = (datetime.datetime.today() - datetime.timedelta(days=i)).strftime('%Y-%m-%d')\n",
    "        rainfall = round(random.uniform(0, 100), 2)  # mm\n",
    "        usage = round(random.uniform(50, 150), 2)  # liters per day\n",
    "        water_level = round(random.uniform(30, 100), 2)  # percentage of reservoir\n",
    "        data.append((date, rainfall, usage, water_level))\n",
    "    return list(reversed(data))"
   ]
  },
  {
   "cell_type": "markdown",
   "id": "f79a4e0f",
   "metadata": {},
   "source": [
    "### Analyze Water Data"
   ]
  },
  {
   "cell_type": "code",
   "execution_count": null,
   "id": "b2048bb7",
   "metadata": {},
   "outputs": [],
   "source": [
    "def analyze_water_data(data):\n",
    "    dates, rainfall, usage, water_levels = zip(*data)\n",
    "    \n",
    "    plt.figure(figsize=(10, 5))\n",
    "    \n",
    "    plt.subplot(2, 1, 1)\n",
    "    plt.plot(dates, rainfall, label='Rainfall (mm)', marker='o', linestyle='-')\n",
    "    plt.ylabel('Rainfall (mm)')\n",
    "    plt.xticks(rotation=45)\n",
    "    plt.legend()\n",
    "    \n",
    "    plt.subplot(2, 1, 2)\n",
    "    plt.plot(dates, usage, label='Water Usage (L)', marker='s', linestyle='--', color='r')\n",
    "    plt.plot(dates, water_levels, label='Water Level (%)', marker='^', linestyle='-', color='g')\n",
    "    plt.ylabel('Usage/Water Level')\n",
    "    plt.xticks(rotation=45)\n",
    "    plt.legend()\n",
    "    \n",
    "    plt.tight_layout()\n",
    "    plt.show()"
   ]
  },
  {
   "cell_type": "markdown",
   "id": "8e5b60c6",
   "metadata": {},
   "source": [
    "### Alert System"
   ]
  },
  {
   "cell_type": "code",
   "execution_count": null,
   "id": "64853bb2",
   "metadata": {},
   "outputs": [],
   "source": [
    "def alert_system(data):\n",
    "    for date, rainfall, usage, water_level in data[-5:]:\n",
    "        if water_level < 40:\n",
    "            print(f\"⚠️ Alert! Low water level on {date}: {water_level}%\")\n",
    "        elif water_level > 90:\n",
    "            print(f\"⚠️ Alert! High water level on {date}: {water_level}%\")\n",
    "        if usage > 120:\n",
    "            print(f\"⚠️ Alert! High water usage on {date}: {usage} L\")"
   ]
  },
  {
   "cell_type": "markdown",
   "id": "4c622d77",
   "metadata": {},
   "source": [
    "### Run the Analysis"
   ]
  },
  {
   "cell_type": "code",
   "execution_count": null,
   "id": "772a88c8",
   "metadata": {},
   "outputs": [],
   "source": [
    "water_data = generate_water_data()\n",
    "analyze_water_data(water_data)\n",
    "alert_system(water_data)"
   ]
  }
 ],
 "metadata": {},
 "nbformat": 4,
 "nbformat_minor": 5
}
